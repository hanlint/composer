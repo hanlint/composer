{
 "cells": [
  {
   "cell_type": "markdown",
   "metadata": {
    "id": "UD3vgh2PA8bU"
   },
   "source": [
    "# ♻️ Auto Grad Accum\n",
    "\n",
    "This notebook will demonstrate how to use automatic gradient accumulation to avoid CUDA OOMs, regardless of your batch size choice, GPU type, and number of devices. Experiment with different combinations and see how it works!\n"
   ]
  },
  {
   "cell_type": "markdown",
   "metadata": {
    "id": "L9DAuOJ9A8bW"
   },
   "source": [
    "We'll start by installing composer"
   ]
  },
  {
   "cell_type": "code",
   "execution_count": null,
   "metadata": {
    "colab": {
     "base_uri": "https://localhost:8080/",
     "height": 1000
    },
    "id": "_8VYaHyiA8bW",
    "outputId": "30a1fc0d-a8c4-4b38-c9a9-c5412d7cf51b"
   },
   "outputs": [],
   "source": [
    "!pip install mosaicml "
   ]
  },
  {
   "cell_type": "markdown",
   "metadata": {
    "id": "lJVhy0DyA8bX"
   },
   "source": [
    "# Set Up Our Workspace"
   ]
  },
  {
   "cell_type": "markdown",
   "metadata": {
    "id": "TIRradscNIMj"
   },
   "source": [
    "Let's first set our logging level to `debug` so we can see when the trainer is reporting the gradient accumulation changes."
   ]
  },
  {
   "cell_type": "code",
   "execution_count": null,
   "metadata": {
    "id": "NFR92R72QY9c"
   },
   "outputs": [],
   "source": [
    "import logging\n",
    "logging.basicConfig(level=logging.DEBUG)"
   ]
  },
  {
   "cell_type": "markdown",
   "metadata": {
    "id": "t8Sa_1N9A8bX"
   },
   "source": [
    "We are going to use the CIFAR10 dataset with a ResNet56 model, and some standard optimization settings. For the purposes of this notebook, we'll choose very large batch size, and also increase the image size to 96x 96, such that you would typically hit CUDA Out-of-Memory errors on most GPUs."
   ]
  },
  {
   "cell_type": "code",
   "execution_count": null,
   "metadata": {
    "colab": {
     "base_uri": "https://localhost:8080/"
    },
    "id": "xeqAQ0UKA8bX",
    "outputId": "92b0ffa7-d805-4364-a718-58057cb06762"
   },
   "outputs": [],
   "source": [
    "import time\n",
    "\n",
    "import torch\n",
    "\n",
    "import composer\n",
    "from torchvision import datasets, transforms\n",
    "\n",
    "\n",
    "torch.manual_seed(42) # For replicability\n",
    "\n",
    "data_directory = \"../data\"\n",
    "\n",
    "# Normalization constants\n",
    "mean = (0.507, 0.487, 0.441)\n",
    "std = (0.267, 0.256, 0.276)\n",
    "\n",
    "# choose a very large batch size\n",
    "batch_size = 2048\n",
    "\n",
    "cifar10_transforms = transforms.Compose([\n",
    "  transforms.ToTensor(), \n",
    "  transforms.Normalize(mean, std),\n",
    "  transforms.Resize(size=[96, 96])  # choose a large image size\n",
    "])\n",
    "\n",
    "train_dataset = datasets.CIFAR10(data_directory, train=True, download=True, transform=cifar10_transforms)\n",
    "test_dataset = datasets.CIFAR10(data_directory, train=False, download=True, transform=cifar10_transforms)\n",
    "\n",
    "train_dataloader = torch.utils.data.DataLoader(train_dataset, batch_size=batch_size, shuffle=True)\n",
    "test_dataloader = torch.utils.data.DataLoader(test_dataset, batch_size=batch_size, shuffle=True)"
   ]
  },
  {
   "cell_type": "markdown",
   "metadata": {
    "id": "X3e33g4JA8bY"
   },
   "source": [
    "## Model\n",
    "\n",
    "Next, we create our model. We're using composer's built-in ResNet56. To use your own custom model, please see the [custom models tutorial](https://docs.mosaicml.com/en/stable/tutorials/adding_models_datasets.html#models)."
   ]
  },
  {
   "cell_type": "code",
   "execution_count": null,
   "metadata": {
    "id": "WP1Uqgm3A8bZ"
   },
   "outputs": [],
   "source": [
    "from composer import models\n",
    "model = models.ComposerResNetCIFAR(model_name='resnet_56', num_classes=10)"
   ]
  },
  {
   "cell_type": "markdown",
   "metadata": {
    "id": "NWvAlhLrA8ba"
   },
   "source": [
    "# Train a Baseline Model"
   ]
  },
  {
   "cell_type": "markdown",
   "metadata": {
    "id": "0rU2-KddA8ba"
   },
   "source": [
    "Now we run our trainer code with `grad_accum=='auto'`. setting. Note that this demo requires a GPU to demonstrate automatic gradient accumulation."
   ]
  },
  {
   "cell_type": "code",
   "execution_count": null,
   "metadata": {
    "colab": {
     "base_uri": "https://localhost:8080/",
     "height": 283,
     "referenced_widgets": [
      "0e3980e3fb6b4fe6acc6b32cfc208fe8",
      "59a44b3cf79240d9923e9ec6c1460c31",
      "827a1cdc89324e469c1dc6400f3e2eb6",
      "0ab67570cf514da89891cdf6fd9f7e19",
      "8037b7ef043a42c2ae99a70a2fbf4984",
      "81f32f85520a47988121880a60aaf482",
      "fd9069296afb4c52bd532e5b0797abc5",
      "2fd0f806937a4967a03e67e25618750b",
      "42f0098ecf304ebd890856b2d266366d",
      "824f0a519801424f86819431280ddc70",
      "1812e5b2d2d9477cb37b10d557fe0c30",
      "727e0ea3563f42f589c87c65f0f88cdb",
      "133bc349bc2e42e48891aaa62242fc1f",
      "8475dd7eeb5b4cf0a935d5dbc85904ff",
      "5384c373aaa749e1960745f10f180b78",
      "a7354ed236f147d583ddfe0f1aaa8507",
      "7079d522101c47c88f182032c1c3ecdb",
      "15c07a0974b04e228c3f154075118f33",
      "b87c64d813914e3ba776f39ae9ae1692",
      "ee323634838d42da8988fd0c36b077f9",
      "a657cbd0e45049fcb781c2bcf606dd4e",
      "b239e0d72e734f9cb18278479a7391b6"
     ]
    },
    "id": "2GtDiyeoA8ba",
    "outputId": "7afb918f-d611-4757-f104-e6ad2588bfc8"
   },
   "outputs": [],
   "source": [
    "assert torch.cuda.is_available(), \"Demonstrating automatic gradient accumulation requires a GPU.\"\n",
    "\n",
    "trainer = composer.trainer.Trainer(\n",
    "    model=model,\n",
    "    train_dataloader=train_dataloader,\n",
    "    eval_dataloader=test_dataloader,\n",
    "    max_duration=\"1ep\",\n",
    "    grad_accum='auto',\n",
    "    device='gpu'\n",
    ")\n",
    "\n",
    "\n",
    "trainer.fit()"
   ]
  },
  {
   "cell_type": "markdown",
   "metadata": {
    "id": "XtMArdWPA8ba"
   },
   "source": [
    "Depending on your GPU type, you should see some logs that increase the gradient accumulation dynamically until the model fits into memory, prior to the start of training, e.g. something like:\n",
    "\n",
    "```\n",
    "DEBUG:composer.trainer.trainer:CUDA out of memory detected.\n",
    "Gradient Accumulation increased from 1 -> 2, and the batch\n",
    "will be retrained.\n",
    "```"
   ]
  },
  {
   "cell_type": "markdown",
   "metadata": {
    "id": "YpQ3p91yS7qq"
   },
   "source": [
    "Experiment with different batch sizes and image sizes, and notice the trainer will never hit OutOfMemory errors, and you do not have to manually tweak the gradient accumulation to get the model to fit!\n",
    "\n",
    "For more details, see our [Auto Grad Accum](https://docs.mosaicml.com/en/latest/notes/auto_grad_accum.html) documentation."
   ]
  }
 ],
 "metadata": {
  "language_info": {
   "codemirror_mode": {
    "name": "ipython",
    "version": 3
   },
   "file_extension": ".py",
   "mimetype": "text/x-python",
   "name": "python",
   "nbconvert_exporter": "python",
   "pygments_lexer": "ipython3"
  }
 },
 "nbformat": 4,
 "nbformat_minor": 0
}
